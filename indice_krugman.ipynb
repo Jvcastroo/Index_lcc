{
 "cells": [
  {
   "cell_type": "code",
   "execution_count": null,
   "metadata": {},
   "outputs": [],
   "source": [
    "import pandas as pd\n",
    "import math"
   ]
  },
  {
   "cell_type": "code",
   "execution_count": null,
   "metadata": {},
   "outputs": [],
   "source": [
    "#Indicie de krugman\n",
    "test = pd.read_csv('teste.csv',delimiter = '|')\n",
    "test.sort_values(by = ['ci','ck'])\n",
    "\n",
    "# passando test para outro df pra considerar ci como indices\n",
    "abc = test\n",
    "\n",
    "# pegando os cis repetidos e considerando eles como indices posteriormente\n",
    "# e transformando em um array (cis)\n",
    "cis = abc.drop_duplicates('ci')['ci'].tolist()\n",
    "\n",
    "# Pegando as linhas por cada regiao\n",
    "for ci in cis:\n",
    "    cei = 0\n",
    "    linha = test[test['ci'] == ci].reset_index()\n",
    "    #Somatorio de todas as classes da determinada regiao\n",
    "    xi = linha['quant_valor'].sum()\n",
    "    \n",
    "    #percorrer todos os index [ 0 a 13]\n",
    "    for c in linha.index:\n",
    "        \n",
    "        linha2 = test[test['ci'] != ci]\n",
    "        linha2 = linha2[linha2['ck'] == c+1]\n",
    "        somatorio = linha2['quant_valor'].sum()\n",
    "        \n",
    "        #Realizao somatorio em todas as regioes menos no ck trabalhado\n",
    "        linha3 = test[test['ci'] != ci]\n",
    "        somatorio2 = linha3['quant_valor'].sum()\n",
    "        \n",
    "        cei += abs((linha['quant_valor'][c]/xi)-(somatorio/somatorio2))\n",
    "        \n",
    "    print('Regiao trabalhada', ci)\n",
    "    print(cei)"
   ]
  }
 ],
 "metadata": {
  "kernelspec": {
   "display_name": "Python 3",
   "language": "python",
   "name": "python3"
  },
  "language_info": {
   "codemirror_mode": {
    "name": "ipython",
    "version": 3
   },
   "file_extension": ".py",
   "mimetype": "text/x-python",
   "name": "python",
   "nbconvert_exporter": "python",
   "pygments_lexer": "ipython3",
   "version": "3.6.4"
  }
 },
 "nbformat": 4,
 "nbformat_minor": 2
}
